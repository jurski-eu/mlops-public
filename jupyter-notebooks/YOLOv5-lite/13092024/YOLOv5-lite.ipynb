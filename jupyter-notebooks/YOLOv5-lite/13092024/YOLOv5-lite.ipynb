{
 "cells": [
  {
   "cell_type": "code",
   "execution_count": null,
   "id": "257ccd6c-963f-411e-804d-d3a0e3df1440",
   "metadata": {},
   "outputs": [],
   "source": [
    "# Install required packages and import necessary libraries\n",
    "!pip install s3fs==2024.9.0 wandb==0.18.0 -qqq\n",
    "\n",
    "# s3fs for accessing S3 MinIO storage, os for system operations, PIL for image handling\n",
    "import s3fs\n",
    "import os\n",
    "from PIL import Image\n",
    "\n",
    "# Set up connection to S3 MinIO bucket with provided credentials and endpoint\n",
    "fs = s3fs.S3FileSystem(\n",
    "    key='KEY_ID',\n",
    "    secret='KEY_SECRET',\n",
    "    client_kwargs={'endpoint_url': 'ENDPOINT'}\n",
    ")\n",
    "\n",
    "# Initialize and login to Weights and Biases (wandb) for experiment tracking\n",
    "import wandb\n",
    "wandb.login()"
   ]
  },
  {
   "cell_type": "code",
   "execution_count": null,
   "id": "65987c14-52e3-43c5-b1c0-09de796477e5",
   "metadata": {},
   "outputs": [],
   "source": [
    "# Define the local paths where training, validation, and test datasets will be stored\n",
    "local_training_dir = '/home/jovyan/data/training'\n",
    "local_validation_dir = '/home/jovyan/data/validation'\n",
    "local_test_dir = '/home/jovyan/data/test'\n",
    "\n",
    "# Create the directories if they don't already exist\n",
    "os.makedirs(local_training_dir, exist_ok=True)\n",
    "os.makedirs(local_validation_dir, exist_ok=True)\n",
    "os.makedirs(local_test_dir, exist_ok=True)\n",
    "\n",
    "# List the files in the training, validation, and test directories in the S3 MinIO bucket\n",
    "training_files = fs.ls('datasets/coco/1/datasets/training')\n",
    "validation_files = fs.ls('datasets/coco/1/datasets/validation')\n",
    "test_files = fs.ls('datasets/coco/1/datasets/test')\n",
    "\n",
    "# Download each file from the S3 bucket and save it to the corresponding local directory for training\n",
    "for file in training_files:\n",
    "    local_file_path = os.path.join(local_training_dir, os.path.basename(file))\n",
    "    fs.get(file, local_file_path)\n",
    "\n",
    "# Download each file from the S3 bucket and save it to the corresponding local directory for validation\n",
    "for file in validation_files:\n",
    "    local_file_path = os.path.join(local_validation_dir, os.path.basename(file))\n",
    "    fs.get(file, local_file_path)\n",
    "\n",
    "# Download each file from the S3 bucket and save it to the corresponding local directory for testing\n",
    "for file in test_files:\n",
    "    local_file_path = os.path.join(local_test_dir, os.path.basename(file))\n",
    "    fs.get(file, local_file_path)"
   ]
  },
  {
   "cell_type": "code",
   "execution_count": null,
   "id": "18316176-fd3c-45d5-88bd-7392295e5acc",
   "metadata": {},
   "outputs": [],
   "source": [
    "# Clone the YOLOv5-Lite-Fork repository from GitHub, which contains the code and configuration for the YOLOv5-Lite model\n",
    "!git clone https://github.com/jurski-eu/YOLOv5-Lite-Fork.git\n",
    "\n",
    "# Change the current working directory to the YOLOv5-Lite-Fork directory\n",
    "os.chdir('./YOLOv5-Lite-Fork')\n",
    "\n",
    "# Install the necessary dependencies for YOLOv5-Lite from the requirements.txt file in the cloned repository\n",
    "!pip install -r ./requirements.txt -qqq"
   ]
  },
  {
   "cell_type": "code",
   "execution_count": null,
   "id": "e518fccf-5452-4017-b014-06309abd85dc",
   "metadata": {},
   "outputs": [],
   "source": [
    "# Run the YOLOv5-Lite training script with the specified configuration:\n",
    "# --data: Path to the dataset configuration file (person.yaml)\n",
    "# --cfg: Path to the model configuration file (v5Lite-s.yaml)\n",
    "# --weights: Start training from scratch with no pre-trained weights\n",
    "# --batch-size: Set the batch size to 1000\n",
    "# --img-size: Set the image size for training to 320x320 pixels\n",
    "!python ./train.py --data ../person.yaml --cfg ./models/v5Lite-s.yaml --weights '' --batch-size 1000 --img-size 320"
   ]
  }
 ],
 "metadata": {
  "kernelspec": {
   "display_name": "Python 3 (ipykernel)",
   "language": "python",
   "name": "python3"
  },
  "language_info": {
   "codemirror_mode": {
    "name": "ipython",
    "version": 3
   },
   "file_extension": ".py",
   "mimetype": "text/x-python",
   "name": "python",
   "nbconvert_exporter": "python",
   "pygments_lexer": "ipython3",
   "version": "3.11.6"
  }
 },
 "nbformat": 4,
 "nbformat_minor": 5
}
